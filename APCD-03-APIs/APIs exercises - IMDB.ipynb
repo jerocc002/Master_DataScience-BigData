{
 "cells": [
  {
   "cell_type": "markdown",
   "metadata": {},
   "source": [
    "# Ejercicio 1 - API IMDB\n",
    "Acceso a la API de IMDB. Recordad instalar las librerías necesarias.\n",
    "\n",
    "El objetivo del ejercicio es la creación de un archivo csv a partir de\n",
    "búsquedas en la API.\n",
    "La solución no es universal. Podéis realizar cualquier mejora o cambio\n",
    "de código para obtener otro resultado. En ese caso debéis comentar cuál\n",
    "sería vuestro objetivo.\n",
    "\n",
    "Podéis consultarme cualquier duda o enviarme vuestras soluciones a mi correo\n",
    "electrónico gmunoz4@us.es"
   ]
  },
  {
   "cell_type": "code",
   "execution_count": 25,
   "metadata": {
    "collapsed": true
   },
   "outputs": [],
   "source": [
    "import csv\n",
    "import requests"
   ]
  },
  {
   "cell_type": "markdown",
   "metadata": {},
   "source": [
    "Execute the API call for searching. Print the keys of the result."
   ]
  },
  {
   "cell_type": "code",
   "execution_count": 55,
   "metadata": {
    "collapsed": false
   },
   "outputs": [
    {
     "name": "stdout",
     "output_type": "stream",
     "text": [
      "dict_keys(['Response', 'Search', 'totalResults'])\n"
     ]
    }
   ],
   "source": [
    "url =\"http://www.omdbapi.com/?s=Girl&y=2016\"\n",
    "content = requests.get(url).json()\n",
    "print(content.keys())"
   ]
  },
  {
   "cell_type": "code",
   "execution_count": 56,
   "metadata": {
    "collapsed": false
   },
   "outputs": [
    {
     "name": "stdout",
     "output_type": "stream",
     "text": [
      "dict_keys(['Type', 'imdbID', 'Poster', 'Year', 'Title'])\n",
      "3\n",
      "{'Response': 'True', 'Search': [{'Type': 'movie', 'imdbID': 'tt3631112', 'Poster': 'https://images-na.ssl-images-amazon.com/images/M/MV5BMjEwNDU4NTQwMl5BMl5BanBnXkFtZTgwMzQ2MjIwMDI@._V1_SX300.jpg', 'Year': '2016', 'Title': 'The Girl on the Train'}, {'Type': 'movie', 'imdbID': 'tt4547056', 'Poster': 'https://images-na.ssl-images-amazon.com/images/M/MV5BMjQ0NzA4NDcxM15BMl5BanBnXkFtZTgwMTk1NjUzOTE@._V1_SX300.jpg', 'Year': '2016', 'Title': 'The Girl with All the Gifts'}, {'Type': 'movie', 'imdbID': 'tt4129870', 'Poster': 'https://images-na.ssl-images-amazon.com/images/M/MV5BMjMzMDY1NDcyNl5BMl5BanBnXkFtZTgwNTc0ODc4OTE@._V1_SX300.jpg', 'Year': '2016', 'Title': 'White Girl'}, {'Type': 'series', 'imdbID': 'tt4644822', 'Poster': 'https://images-na.ssl-images-amazon.com/images/M/MV5BMjI3MDg2NzQ4Ml5BMl5BanBnXkFtZTgwMjk2Nzg1NjE@._V1_SX300.jpg', 'Year': '2016', 'Title': 'Electra Woman and Dyna Girl'}, {'Type': 'movie', 'imdbID': 'tt4262174', 'Poster': 'https://images-na.ssl-images-amazon.com/images/M/MV5BNWE0MWU0NGMtODQ4MC00MDFkLWFmYjEtYzQyNTQ2OWQ4MjJiXkEyXkFqcGdeQXVyNTQ0NjU2OTk@._V1_SX300.jpg', 'Year': '2016', 'Title': 'First Girl I Loved'}, {'Type': 'movie', 'imdbID': 'tt4630550', 'Poster': 'https://images-na.ssl-images-amazon.com/images/M/MV5BNTcyNTAxNjYxNF5BMl5BanBnXkFtZTgwMjI0OTM2ODE@._V1_SX300.jpg', 'Year': '2016', 'Title': 'The Unknown Girl'}, {'Type': 'movie', 'imdbID': 'tt2554842', 'Poster': 'https://images-na.ssl-images-amazon.com/images/M/MV5BODQ3Nzk1OTM1MV5BMl5BanBnXkFtZTcwODcxNDg4OA@@._V1_SX300.jpg', 'Year': '2016', 'Title': 'Girl in Woods'}, {'Type': 'series', 'imdbID': 'tt5841196', 'Poster': 'https://images-na.ssl-images-amazon.com/images/M/MV5BMjgxZTJiM2ItZDllOS00MTFiLWJmMTgtYjFjMWUzODdkNTM0XkEyXkFqcGdeQXVyNTg5ODg0MzE@._V1_SX300.jpg', 'Year': '2016–', 'Title': 'The Wrong Girl'}, {'Type': 'movie', 'imdbID': 'tt4875694', 'Poster': 'https://images-na.ssl-images-amazon.com/images/M/MV5BZTQ2OWFlYjQtNzkwYS00ZWFlLWFlNDEtNDBhY2YxNmYxYTdlXkEyXkFqcGdeQXVyMTQyNDk2NzE@._V1_SX300.jpg', 'Year': '2016', 'Title': \"Mommy's Little Girl\"}, {'Type': 'movie', 'imdbID': 'tt5323386', 'Poster': 'https://images-na.ssl-images-amazon.com/images/M/MV5BMTQ1OTU0NTc0Nl5BMl5BanBnXkFtZTgwMzQ4MDA3NzE@._V1_SX300.jpg', 'Year': '2016', 'Title': 'Poshter Girl'}], 'totalResults': '200'}\n"
     ]
    }
   ],
   "source": [
    "print(content['Search'][0].keys())\n",
    "print(len(content))\n",
    "print(content)"
   ]
  },
  {
   "cell_type": "code",
   "execution_count": 57,
   "metadata": {
    "collapsed": false
   },
   "outputs": [
    {
     "name": "stdout",
     "output_type": "stream",
     "text": [
      "[{'Type': 'movie', 'imdbID': 'tt3631112', 'Poster': 'https://images-na.ssl-images-amazon.com/images/M/MV5BMjEwNDU4NTQwMl5BMl5BanBnXkFtZTgwMzQ2MjIwMDI@._V1_SX300.jpg', 'Year': '2016', 'Title': 'The Girl on the Train'}, {'Type': 'movie', 'imdbID': 'tt4547056', 'Poster': 'https://images-na.ssl-images-amazon.com/images/M/MV5BMjQ0NzA4NDcxM15BMl5BanBnXkFtZTgwMTk1NjUzOTE@._V1_SX300.jpg', 'Year': '2016', 'Title': 'The Girl with All the Gifts'}, {'Type': 'movie', 'imdbID': 'tt4129870', 'Poster': 'https://images-na.ssl-images-amazon.com/images/M/MV5BMjMzMDY1NDcyNl5BMl5BanBnXkFtZTgwNTc0ODc4OTE@._V1_SX300.jpg', 'Year': '2016', 'Title': 'White Girl'}, {'Type': 'series', 'imdbID': 'tt4644822', 'Poster': 'https://images-na.ssl-images-amazon.com/images/M/MV5BMjI3MDg2NzQ4Ml5BMl5BanBnXkFtZTgwMjk2Nzg1NjE@._V1_SX300.jpg', 'Year': '2016', 'Title': 'Electra Woman and Dyna Girl'}, {'Type': 'movie', 'imdbID': 'tt4262174', 'Poster': 'https://images-na.ssl-images-amazon.com/images/M/MV5BNWE0MWU0NGMtODQ4MC00MDFkLWFmYjEtYzQyNTQ2OWQ4MjJiXkEyXkFqcGdeQXVyNTQ0NjU2OTk@._V1_SX300.jpg', 'Year': '2016', 'Title': 'First Girl I Loved'}, {'Type': 'movie', 'imdbID': 'tt4630550', 'Poster': 'https://images-na.ssl-images-amazon.com/images/M/MV5BNTcyNTAxNjYxNF5BMl5BanBnXkFtZTgwMjI0OTM2ODE@._V1_SX300.jpg', 'Year': '2016', 'Title': 'The Unknown Girl'}, {'Type': 'movie', 'imdbID': 'tt2554842', 'Poster': 'https://images-na.ssl-images-amazon.com/images/M/MV5BODQ3Nzk1OTM1MV5BMl5BanBnXkFtZTcwODcxNDg4OA@@._V1_SX300.jpg', 'Year': '2016', 'Title': 'Girl in Woods'}, {'Type': 'series', 'imdbID': 'tt5841196', 'Poster': 'https://images-na.ssl-images-amazon.com/images/M/MV5BMjgxZTJiM2ItZDllOS00MTFiLWJmMTgtYjFjMWUzODdkNTM0XkEyXkFqcGdeQXVyNTg5ODg0MzE@._V1_SX300.jpg', 'Year': '2016–', 'Title': 'The Wrong Girl'}, {'Type': 'movie', 'imdbID': 'tt4875694', 'Poster': 'https://images-na.ssl-images-amazon.com/images/M/MV5BZTQ2OWFlYjQtNzkwYS00ZWFlLWFlNDEtNDBhY2YxNmYxYTdlXkEyXkFqcGdeQXVyMTQyNDk2NzE@._V1_SX300.jpg', 'Year': '2016', 'Title': \"Mommy's Little Girl\"}, {'Type': 'movie', 'imdbID': 'tt5323386', 'Poster': 'https://images-na.ssl-images-amazon.com/images/M/MV5BMTQ1OTU0NTc0Nl5BMl5BanBnXkFtZTgwMzQ4MDA3NzE@._V1_SX300.jpg', 'Year': '2016', 'Title': 'Poshter Girl'}]\n"
     ]
    }
   ],
   "source": [
    "print(content['Search'])"
   ]
  },
  {
   "cell_type": "markdown",
   "metadata": {},
   "source": [
    "We iterate over the results. We store only the results with type 'movie'."
   ]
  },
  {
   "cell_type": "code",
   "execution_count": 58,
   "metadata": {
    "collapsed": false
   },
   "outputs": [
    {
     "name": "stdout",
     "output_type": "stream",
     "text": [
      "200\n",
      "172\n"
     ]
    }
   ],
   "source": [
    "results = content['Search']\n",
    "N = int(content['totalResults'])\n",
    "pl = len(results)\n",
    "\n",
    "for p in range(2,N//pl+1):\n",
    "    results += requests.get(url+'&page='+str(p)).json()['Search']\n",
    "\n",
    "print(len(results))\n",
    "\n",
    "for result in results:\n",
    "    if result['Type'] != 'movie':\n",
    "        results.remove(result)\n",
    "\n",
    "print(len(results))"
   ]
  },
  {
   "cell_type": "markdown",
   "metadata": {},
   "source": [
    "Define the csv file. The headers will be 'Genre', 'Description', 'Type', 'Title' and 'imdbRating'."
   ]
  },
  {
   "cell_type": "code",
   "execution_count": 61,
   "metadata": {
    "collapsed": false
   },
   "outputs": [
    {
     "data": {
      "text/plain": [
       "41"
      ]
     },
     "execution_count": 61,
     "metadata": {},
     "output_type": "execute_result"
    }
   ],
   "source": [
    "csvres_headers =['Genre', 'Description', 'Type', 'Title', 'imdbRating']\n",
    "csvres_keys = ['Genre', 'Plot', 'Type', 'Title', 'imdbRating']\n",
    "\n",
    "\n",
    "csvfile = open('Girl2016movies.csv', 'w')\n",
    "writer = csv.writer(csvfile, delimiter='|')\n",
    "\n",
    "writer.writerow(csvres_headers)\n"
   ]
  },
  {
   "cell_type": "markdown",
   "metadata": {},
   "source": [
    "For each movie, we get its info from the API to store in the csv file."
   ]
  },
  {
   "cell_type": "code",
   "execution_count": 62,
   "metadata": {
    "collapsed": false
   },
   "outputs": [],
   "source": [
    "for r in results:\n",
    "    row = []\n",
    "    url_i = \"http://www.omdbapi.com/?i=\"+r['imdbID']\n",
    "    result_i = requests.get(url_i).json()\n",
    "    for f in csvres_keys:        \n",
    "        row.append(result_i[f])\n",
    "    try:\n",
    "        writer.writerow(row)\n",
    "    except:\n",
    "        pass\n",
    "\n",
    "csvfile.close()"
   ]
  },
  {
   "cell_type": "code",
   "execution_count": null,
   "metadata": {
    "collapsed": true
   },
   "outputs": [],
   "source": []
  }
 ],
 "metadata": {
  "anaconda-cloud": {},
  "kernelspec": {
   "display_name": "Python [conda root]",
   "language": "python",
   "name": "conda-root-py"
  },
  "language_info": {
   "codemirror_mode": {
    "name": "ipython",
    "version": 3
   },
   "file_extension": ".py",
   "mimetype": "text/x-python",
   "name": "python",
   "nbconvert_exporter": "python",
   "pygments_lexer": "ipython3",
   "version": "3.5.2"
  }
 },
 "nbformat": 4,
 "nbformat_minor": 0
}
