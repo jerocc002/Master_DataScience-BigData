{
 "cells": [
  {
   "cell_type": "markdown",
   "metadata": {},
   "source": [
    "# Star Wars y Neo4j"
   ]
  },
  {
   "cell_type": "markdown",
   "metadata": {},
   "source": [
    "Existe una API REST pública, [SWAPI](http://swapi.co/), con información extraida de una [Wiki de Star Wars](http://starwars.wikia.com/). Al ser una [API REST](https://en.wikipedia.org/wiki/Representational_state_transfer) tiene la información estructurada por recursos (entidades). La idea de este **ejercicio** es modelar esta API con Neo4j.\n",
    "\n",
    "Tanto la idea como el código están basados en [este notebook](https://github.com/johnymontana/SWAPI-graph/blob/master/SWAPI.ipynb) de [William Lyon](http://www.lyonwj.com/)."
   ]
  },
  {
   "cell_type": "markdown",
   "metadata": {},
   "source": [
    "## Requisitos"
   ]
  },
  {
   "cell_type": "markdown",
   "metadata": {},
   "source": [
    "* Python:\n",
    "  * `jupyter`\n",
    "  * `requests`\n",
    "  * [`py2neo`](http://py2neo.org/)\n",
    "* [Neo4j 3.X](http://neo4j.com/download/other-releases/)"
   ]
  },
  {
   "cell_type": "markdown",
   "metadata": {},
   "source": [
    "## El modelo de relaciones"
   ]
  },
  {
   "cell_type": "markdown",
   "metadata": {},
   "source": [
    "Para simplificar un poco el trabajo veremos el modelo de relaciones que sigue esta API, y por lo tanto el que proyectaremos en Neo4j.\n",
    "\n",
    "![Modelo de relaciones](https://i.imgur.com/8ZLrOgO.png)"
   ]
  },
  {
   "cell_type": "markdown",
   "metadata": {},
   "source": [
    "## ¡A programar!"
   ]
  },
  {
   "cell_type": "code",
   "execution_count": 50,
   "metadata": {
    "collapsed": true
   },
   "outputs": [],
   "source": [
    "# Importing packages\n",
    "from py2neo import authenticate, Graph, Node, NodeSelector, Relationship\n",
    "import requests\n",
    "\n",
    "# Creating constants\n",
    "PLACEHOLDER = 'Placeholder'"
   ]
  },
  {
   "cell_type": "code",
   "execution_count": 51,
   "metadata": {
    "collapsed": false
   },
   "outputs": [
    {
     "data": {
      "text/plain": [
       "{'films': 'http://swapi.co/api/films/',\n",
       " 'people': 'http://swapi.co/api/people/',\n",
       " 'planets': 'http://swapi.co/api/planets/',\n",
       " 'species': 'http://swapi.co/api/species/',\n",
       " 'starships': 'http://swapi.co/api/starships/',\n",
       " 'vehicles': 'http://swapi.co/api/vehicles/'}"
      ]
     },
     "execution_count": 51,
     "metadata": {},
     "output_type": "execute_result"
    }
   ],
   "source": [
    "# Exploring the API: What endpoints are available? Let's take a look to them\n",
    "r = requests.get(\"http://swapi.co/api/\")\n",
    "r.json()"
   ]
  },
  {
   "cell_type": "code",
   "execution_count": 52,
   "metadata": {
    "collapsed": false
   },
   "outputs": [],
   "source": [
    "# Connecting to Neo4j instance\n",
    "authenticate('localhost', 'neo4j', 'admin_neo4j')  # Set user and pass\n",
    "graph = Graph()\n",
    "selector = NodeSelector(graph)  # And creating the selector\n",
    "\n",
    "# Creating uniqueness constraints based on the datamodel\n",
    "graph.schema.create_uniqueness_constraint('Film', 'url')\n",
    "graph.schema.create_uniqueness_constraint('Person', 'url')\n",
    "graph.schema.create_uniqueness_constraint('Director', 'url')  # We need a few more constraints\n",
    "graph.schema.create_uniqueness_constraint('Producer', 'url')\n",
    "graph.schema.create_uniqueness_constraint('Manufacturer', 'url')\n",
    "graph.schema.create_uniqueness_constraint('Vehicle', 'url')\n",
    "graph.schema.create_uniqueness_constraint('Starship', 'url')\n",
    "graph.schema.create_uniqueness_constraint('Species', 'url')\n",
    "graph.schema.create_uniqueness_constraint('Terrain', 'url')\n",
    "graph.schema.create_uniqueness_constraint('StarshipClass', 'url')\n",
    "graph.schema.create_uniqueness_constraint('VehicleClass', 'url')\n",
    "graph.schema.create_uniqueness_constraint('Climate', 'url')\n",
    "graph.schema.create_uniqueness_constraint('Planet', 'url')\n"
   ]
  },
  {
   "cell_type": "code",
   "execution_count": 53,
   "metadata": {
    "collapsed": true
   },
   "outputs": [],
   "source": [
    "# Some helper functions\n",
    "def merge_one_node(*labels, **properties):\n",
    "    merged = selector.select(*labels, **properties).first()\n",
    "    if not merged:\n",
    "        merged = Node(*labels, **properties)\n",
    "        graph.create(merged)\n",
    "    return merged\n",
    "\n",
    "def create_unique_relationship(start_node, rel_type, end_node):\n",
    "    rels = graph.match(start_node=start_node, rel_type=rel_type, end_node=end_node)\n",
    "    length = 0\n",
    "    for rel in rels:\n",
    "        length += 1\n",
    "    if length == 0:\n",
    "        rel = Relationship(start_node, rel_type, end_node)\n",
    "        graph.create(rel)"
   ]
  },
  {
   "cell_type": "markdown",
   "metadata": {},
   "source": [
    "Hemos creado restricciones basadas en las URLs porque son únicas para cada entidad, funcionando como un `id` al uso.\n",
    "\n",
    "Ahora vamos a ver como son las distintas recursos (entidades) de la API. Echándoles un vistazo a su estructura podremos crear funciones para mapearlas a las bases de datos.\n",
    "\n",
    "La **idea** que vamos a seguir es la siguiente:\n",
    "* Siempre que nos encontremos con una entidad la mapearemos a la base de datos con las funciones que crearemos.\n",
    "* Si una entidad tiene relaciones con otras, la API solo nos devolverá la URL de estas nuevas entidades, por lo que crearemos nodos provisionales (`Placeholder`) que solo contengan su URL.\n",
    "* Cuando nos encontremos con un entidad que este representada por un nodo `Placeholder`, acutalizaremos ese nodo con su información real y elminaremos su estado provisional.\n",
    "* Además de las entidades de la API (`person`, `film`, `planet`, `species`, `starship` y `vehicle`) también crearemos entidades para ciertos elementos que tienen valor como tal: `director`, `producer`, `climate`, `terrain`, `manufacturer`, `starship class` y `vehicle class`."
   ]
  },
  {
   "cell_type": "code",
   "execution_count": 54,
   "metadata": {
    "collapsed": false
   },
   "outputs": [
    {
     "data": {
      "text/plain": [
       "{'birth_year': '19BBY',\n",
       " 'created': '2014-12-09T13:50:51.644000Z',\n",
       " 'edited': '2014-12-20T21:17:56.891000Z',\n",
       " 'eye_color': 'blue',\n",
       " 'films': ['http://swapi.co/api/films/6/',\n",
       "  'http://swapi.co/api/films/3/',\n",
       "  'http://swapi.co/api/films/2/',\n",
       "  'http://swapi.co/api/films/1/',\n",
       "  'http://swapi.co/api/films/7/'],\n",
       " 'gender': 'male',\n",
       " 'hair_color': 'blond',\n",
       " 'height': '172',\n",
       " 'homeworld': 'http://swapi.co/api/planets/1/',\n",
       " 'mass': '77',\n",
       " 'name': 'Luke Skywalker',\n",
       " 'skin_color': 'fair',\n",
       " 'species': ['http://swapi.co/api/species/1/'],\n",
       " 'starships': ['http://swapi.co/api/starships/12/',\n",
       "  'http://swapi.co/api/starships/22/'],\n",
       " 'url': 'http://swapi.co/api/people/1/',\n",
       " 'vehicles': ['http://swapi.co/api/vehicles/14/',\n",
       "  'http://swapi.co/api/vehicles/30/']}"
      ]
     },
     "execution_count": 54,
     "metadata": {},
     "output_type": "execute_result"
    }
   ],
   "source": [
    "# Fetch a single person entity from the API for check the attributes it has\n",
    "r = requests.get(\"http://swapi.co/api/people/1/\")\n",
    "params = r.json()\n",
    "params"
   ]
  },
  {
   "cell_type": "code",
   "execution_count": 55,
   "metadata": {
    "collapsed": false
   },
   "outputs": [],
   "source": [
    "# Define a function for inserting a Person entity into the graph\n",
    "# For resources referenced in the Person entity (like homeworld and starships)\n",
    "# we can create a relationship and a node containing only the url, so, this new \n",
    "# node acts as a placeholder that we'll need to fill in later\n",
    "def create_person(params):\n",
    "    person = merge_one_node('Person', url=params['url'])\n",
    "    person['birth_year'] = params['birth_year']\n",
    "    person['created'] = params['created']\n",
    "    person['edited'] = params['edited']\n",
    "    person['eye_color'] = params['eye_color']\n",
    "    person['gender'] = params['gender']\n",
    "    person['hari_color'] = params['hair_color']\n",
    "    person['height'] = params['height']\n",
    "    person['mass'] = params['mass']\n",
    "    person['name'] = params['name']\n",
    "    person['skin_color'] = params['skin_color']\n",
    "        \n",
    "    if PLACEHOLDER in person.labels():\n",
    "        person.remove_label(PLACEHOLDER)\n",
    "    \n",
    "    graph.push(person)\n",
    "    \n",
    "    planet = selector.select('Planet', url=params['homeworld']).first()  # Why not use merge?\n",
    "    if not planet:\n",
    "        planet = Node('Planet', url=params['homeworld'])\n",
    "        planet.add_label(PLACEHOLDER)\n",
    "        graph.create(planet)\n",
    "    create_unique_relationship(person, 'IS_FROM', planet)\n",
    "    \n",
    "    for species_param in params['species']:\n",
    "        species = selector.select('Species', url=species_param).first()\n",
    "        if not species:\n",
    "            species = Node('Species', url=species_param)\n",
    "            species.add_label(PLACEHOLDER)\n",
    "            graph.create(species)\n",
    "        create_unique_relationship(person, 'IS_SPECIES', species)\n",
    "        \n",
    "    ########################################\n",
    "    # Here we need a block for the starships\n",
    "    ########################################\n",
    "    for starship_param in params['starships']:\n",
    "        starship = selector.select('Starship', url=starship_param).first()\n",
    "        if not starship:\n",
    "            starship = Node('Starship', url=starship_param)\n",
    "            starship.add_label(PLACEHOLDER)\n",
    "            graph.create(starship)\n",
    "        create_unique_relationship(person, 'PILOTS', starship)\n",
    "    \n",
    "    #######################################\n",
    "    # Here we need a block for the vehicles\n",
    "    #######################################\n",
    "    for vehicle_param in params['vehicles']:\n",
    "        vehicle = selector.select('Vehicle', url=vehicle_param).first()\n",
    "        if not vehicle:\n",
    "            vehicle = Node('Vehicle', url=vehicle_param)\n",
    "            vehicle.add_label(PLACEHOLDER)\n",
    "            graph.create(vehicle)\n",
    "        create_unique_relationship(person, 'PILOTS', vehicle)    \n",
    "    \n",
    "    graph.push(person)"
   ]
  },
  {
   "cell_type": "code",
   "execution_count": 56,
   "metadata": {
    "collapsed": false
   },
   "outputs": [
    {
     "ename": "ProtocolError",
     "evalue": "Server closed connection",
     "output_type": "error",
     "traceback": [
      "\u001b[0;31m---------------------------------------------------------------------------\u001b[0m",
      "\u001b[0;31mProtocolError\u001b[0m                             Traceback (most recent call last)",
      "\u001b[0;32m<ipython-input-56-290b7dbd2c36>\u001b[0m in \u001b[0;36m<module>\u001b[0;34m()\u001b[0m\n\u001b[1;32m      1\u001b[0m \u001b[0;31m# Creating Luke Skywalker\u001b[0m\u001b[0;34m\u001b[0m\u001b[0;34m\u001b[0m\u001b[0m\n\u001b[0;32m----> 2\u001b[0;31m \u001b[0mcreate_person\u001b[0m\u001b[0;34m(\u001b[0m\u001b[0mparams\u001b[0m\u001b[0;34m)\u001b[0m\u001b[0;34m\u001b[0m\u001b[0m\n\u001b[0m",
      "\u001b[0;32m<ipython-input-55-dfddfed40dac>\u001b[0m in \u001b[0;36mcreate_person\u001b[0;34m(params)\u001b[0m\n\u001b[1;32m      4\u001b[0m \u001b[0;31m# node acts as a placeholder that we'll need to fill in later\u001b[0m\u001b[0;34m\u001b[0m\u001b[0;34m\u001b[0m\u001b[0m\n\u001b[1;32m      5\u001b[0m \u001b[0;32mdef\u001b[0m \u001b[0mcreate_person\u001b[0m\u001b[0;34m(\u001b[0m\u001b[0mparams\u001b[0m\u001b[0;34m)\u001b[0m\u001b[0;34m:\u001b[0m\u001b[0;34m\u001b[0m\u001b[0m\n\u001b[0;32m----> 6\u001b[0;31m     \u001b[0mperson\u001b[0m \u001b[0;34m=\u001b[0m \u001b[0mmerge_one_node\u001b[0m\u001b[0;34m(\u001b[0m\u001b[0;34m'Person'\u001b[0m\u001b[0;34m,\u001b[0m \u001b[0murl\u001b[0m\u001b[0;34m=\u001b[0m\u001b[0mparams\u001b[0m\u001b[0;34m[\u001b[0m\u001b[0;34m'url'\u001b[0m\u001b[0;34m]\u001b[0m\u001b[0;34m)\u001b[0m\u001b[0;34m\u001b[0m\u001b[0m\n\u001b[0m\u001b[1;32m      7\u001b[0m     \u001b[0mperson\u001b[0m\u001b[0;34m[\u001b[0m\u001b[0;34m'birth_year'\u001b[0m\u001b[0;34m]\u001b[0m \u001b[0;34m=\u001b[0m \u001b[0mparams\u001b[0m\u001b[0;34m[\u001b[0m\u001b[0;34m'birth_year'\u001b[0m\u001b[0;34m]\u001b[0m\u001b[0;34m\u001b[0m\u001b[0m\n\u001b[1;32m      8\u001b[0m     \u001b[0mperson\u001b[0m\u001b[0;34m[\u001b[0m\u001b[0;34m'created'\u001b[0m\u001b[0;34m]\u001b[0m \u001b[0;34m=\u001b[0m \u001b[0mparams\u001b[0m\u001b[0;34m[\u001b[0m\u001b[0;34m'created'\u001b[0m\u001b[0;34m]\u001b[0m\u001b[0;34m\u001b[0m\u001b[0m\n",
      "\u001b[0;32m<ipython-input-53-6de489d628d8>\u001b[0m in \u001b[0;36mmerge_one_node\u001b[0;34m(*labels, **properties)\u001b[0m\n\u001b[1;32m      1\u001b[0m \u001b[0;31m# Some helper functions\u001b[0m\u001b[0;34m\u001b[0m\u001b[0;34m\u001b[0m\u001b[0m\n\u001b[1;32m      2\u001b[0m \u001b[0;32mdef\u001b[0m \u001b[0mmerge_one_node\u001b[0m\u001b[0;34m(\u001b[0m\u001b[0;34m*\u001b[0m\u001b[0mlabels\u001b[0m\u001b[0;34m,\u001b[0m \u001b[0;34m**\u001b[0m\u001b[0mproperties\u001b[0m\u001b[0;34m)\u001b[0m\u001b[0;34m:\u001b[0m\u001b[0;34m\u001b[0m\u001b[0m\n\u001b[0;32m----> 3\u001b[0;31m     \u001b[0mmerged\u001b[0m \u001b[0;34m=\u001b[0m \u001b[0mselector\u001b[0m\u001b[0;34m.\u001b[0m\u001b[0mselect\u001b[0m\u001b[0;34m(\u001b[0m\u001b[0;34m*\u001b[0m\u001b[0mlabels\u001b[0m\u001b[0;34m,\u001b[0m \u001b[0;34m**\u001b[0m\u001b[0mproperties\u001b[0m\u001b[0;34m)\u001b[0m\u001b[0;34m.\u001b[0m\u001b[0mfirst\u001b[0m\u001b[0;34m(\u001b[0m\u001b[0;34m)\u001b[0m\u001b[0;34m\u001b[0m\u001b[0m\n\u001b[0m\u001b[1;32m      4\u001b[0m     \u001b[0;32mif\u001b[0m \u001b[0;32mnot\u001b[0m \u001b[0mmerged\u001b[0m\u001b[0;34m:\u001b[0m\u001b[0;34m\u001b[0m\u001b[0m\n\u001b[1;32m      5\u001b[0m         \u001b[0mmerged\u001b[0m \u001b[0;34m=\u001b[0m \u001b[0mNode\u001b[0m\u001b[0;34m(\u001b[0m\u001b[0;34m*\u001b[0m\u001b[0mlabels\u001b[0m\u001b[0;34m,\u001b[0m \u001b[0;34m**\u001b[0m\u001b[0mproperties\u001b[0m\u001b[0;34m)\u001b[0m\u001b[0;34m\u001b[0m\u001b[0m\n",
      "\u001b[0;32m/home/usu1/anaconda3/lib/python3.5/site-packages/py2neo/database/selection.py\u001b[0m in \u001b[0;36mfirst\u001b[0;34m(self)\u001b[0m\n\u001b[1;32m     58\u001b[0m         \u001b[0;34m:\u001b[0m\u001b[0;32mreturn\u001b[0m\u001b[0;34m:\u001b[0m \u001b[0ma\u001b[0m \u001b[0msingle\u001b[0m \u001b[0mmatching\u001b[0m \u001b[0;34m:\u001b[0m\u001b[0mpy\u001b[0m\u001b[0;34m:\u001b[0m\u001b[0;32mclass\u001b[0m\u001b[0;34m:\u001b[0m\u001b[0;31m`\u001b[0m\u001b[0;34m.\u001b[0m\u001b[0mNode\u001b[0m\u001b[0;31m`\u001b[0m \u001b[0;32mor\u001b[0m \u001b[0;34m:\u001b[0m\u001b[0mpy\u001b[0m\u001b[0;34m:\u001b[0m\u001b[0mconst\u001b[0m\u001b[0;34m:\u001b[0m\u001b[0;31m`\u001b[0m\u001b[0;32mNone\u001b[0m\u001b[0;31m`\u001b[0m\u001b[0;34m\u001b[0m\u001b[0m\n\u001b[1;32m     59\u001b[0m         \"\"\"\n\u001b[0;32m---> 60\u001b[0;31m         \u001b[0;32mreturn\u001b[0m \u001b[0mself\u001b[0m\u001b[0;34m.\u001b[0m\u001b[0mgraph\u001b[0m\u001b[0;34m.\u001b[0m\u001b[0mevaluate\u001b[0m\u001b[0;34m(\u001b[0m\u001b[0;34m*\u001b[0m\u001b[0mself\u001b[0m\u001b[0;34m.\u001b[0m\u001b[0m_query_and_parameters\u001b[0m\u001b[0;34m)\u001b[0m\u001b[0;34m\u001b[0m\u001b[0m\n\u001b[0m\u001b[1;32m     61\u001b[0m \u001b[0;34m\u001b[0m\u001b[0m\n\u001b[1;32m     62\u001b[0m     \u001b[0;34m@\u001b[0m\u001b[0mproperty\u001b[0m\u001b[0;34m\u001b[0m\u001b[0m\n",
      "\u001b[0;32m/home/usu1/anaconda3/lib/python3.5/site-packages/py2neo/database/__init__.py\u001b[0m in \u001b[0;36mevaluate\u001b[0;34m(self, statement, parameters, **kwparameters)\u001b[0m\n\u001b[1;32m    466\u001b[0m                  \u001b[0;34m:\u001b[0m\u001b[0mpy\u001b[0m\u001b[0;34m:\u001b[0m\u001b[0mconst\u001b[0m\u001b[0;34m:\u001b[0m\u001b[0;31m`\u001b[0m\u001b[0;32mNone\u001b[0m\u001b[0;31m`\u001b[0m\u001b[0;34m.\u001b[0m\u001b[0;34m\u001b[0m\u001b[0m\n\u001b[1;32m    467\u001b[0m         \"\"\"\n\u001b[0;32m--> 468\u001b[0;31m         \u001b[0;32mreturn\u001b[0m \u001b[0mself\u001b[0m\u001b[0;34m.\u001b[0m\u001b[0mbegin\u001b[0m\u001b[0;34m(\u001b[0m\u001b[0mautocommit\u001b[0m\u001b[0;34m=\u001b[0m\u001b[0;32mTrue\u001b[0m\u001b[0;34m)\u001b[0m\u001b[0;34m.\u001b[0m\u001b[0mevaluate\u001b[0m\u001b[0;34m(\u001b[0m\u001b[0mstatement\u001b[0m\u001b[0;34m,\u001b[0m \u001b[0mparameters\u001b[0m\u001b[0;34m,\u001b[0m \u001b[0;34m**\u001b[0m\u001b[0mkwparameters\u001b[0m\u001b[0;34m)\u001b[0m\u001b[0;34m\u001b[0m\u001b[0m\n\u001b[0m\u001b[1;32m    469\u001b[0m \u001b[0;34m\u001b[0m\u001b[0m\n\u001b[1;32m    470\u001b[0m     \u001b[0;32mdef\u001b[0m \u001b[0mexists\u001b[0m\u001b[0;34m(\u001b[0m\u001b[0mself\u001b[0m\u001b[0;34m,\u001b[0m \u001b[0msubgraph\u001b[0m\u001b[0;34m)\u001b[0m\u001b[0;34m:\u001b[0m\u001b[0;34m\u001b[0m\u001b[0m\n",
      "\u001b[0;32m/home/usu1/anaconda3/lib/python3.5/site-packages/py2neo/database/__init__.py\u001b[0m in \u001b[0;36mevaluate\u001b[0;34m(self, statement, parameters, **kwparameters)\u001b[0m\n\u001b[1;32m   1071\u001b[0m         \u001b[0;34m:\u001b[0m\u001b[0mreturns\u001b[0m\u001b[0;34m:\u001b[0m \u001b[0msingle\u001b[0m \u001b[0;32mreturn\u001b[0m \u001b[0mvalue\u001b[0m \u001b[0;32mor\u001b[0m \u001b[0;34m:\u001b[0m\u001b[0mconst\u001b[0m\u001b[0;34m:\u001b[0m\u001b[0;31m`\u001b[0m\u001b[0;32mNone\u001b[0m\u001b[0;31m`\u001b[0m\u001b[0;34m\u001b[0m\u001b[0m\n\u001b[1;32m   1072\u001b[0m         \"\"\"\n\u001b[0;32m-> 1073\u001b[0;31m         \u001b[0;32mreturn\u001b[0m \u001b[0mself\u001b[0m\u001b[0;34m.\u001b[0m\u001b[0mrun\u001b[0m\u001b[0;34m(\u001b[0m\u001b[0mstatement\u001b[0m\u001b[0;34m,\u001b[0m \u001b[0mparameters\u001b[0m\u001b[0;34m,\u001b[0m \u001b[0;34m**\u001b[0m\u001b[0mkwparameters\u001b[0m\u001b[0;34m)\u001b[0m\u001b[0;34m.\u001b[0m\u001b[0mevaluate\u001b[0m\u001b[0;34m(\u001b[0m\u001b[0;36m0\u001b[0m\u001b[0;34m)\u001b[0m\u001b[0;34m\u001b[0m\u001b[0m\n\u001b[0m\u001b[1;32m   1074\u001b[0m \u001b[0;34m\u001b[0m\u001b[0m\n\u001b[1;32m   1075\u001b[0m     \u001b[0;32mdef\u001b[0m \u001b[0mcreate\u001b[0m\u001b[0;34m(\u001b[0m\u001b[0mself\u001b[0m\u001b[0;34m,\u001b[0m \u001b[0msubgraph\u001b[0m\u001b[0;34m)\u001b[0m\u001b[0;34m:\u001b[0m\u001b[0;34m\u001b[0m\u001b[0m\n",
      "\u001b[0;32m/home/usu1/anaconda3/lib/python3.5/site-packages/py2neo/database/__init__.py\u001b[0m in \u001b[0;36mrun\u001b[0;34m(self, statement, parameters, **kwparameters)\u001b[0m\n\u001b[1;32m   1275\u001b[0m         \u001b[0mself\u001b[0m\u001b[0;34m.\u001b[0m\u001b[0msources\u001b[0m\u001b[0;34m.\u001b[0m\u001b[0mappend\u001b[0m\u001b[0;34m(\u001b[0m\u001b[0msource\u001b[0m\u001b[0;34m)\u001b[0m\u001b[0;34m\u001b[0m\u001b[0m\n\u001b[1;32m   1276\u001b[0m         \u001b[0;32mif\u001b[0m \u001b[0mself\u001b[0m\u001b[0;34m.\u001b[0m\u001b[0mautocommit\u001b[0m\u001b[0;34m:\u001b[0m\u001b[0;34m\u001b[0m\u001b[0m\n\u001b[0;32m-> 1277\u001b[0;31m             \u001b[0mself\u001b[0m\u001b[0;34m.\u001b[0m\u001b[0mfinish\u001b[0m\u001b[0;34m(\u001b[0m\u001b[0;34m)\u001b[0m\u001b[0;34m\u001b[0m\u001b[0m\n\u001b[0m\u001b[1;32m   1278\u001b[0m         \u001b[0;32mreturn\u001b[0m \u001b[0mCursor\u001b[0m\u001b[0;34m(\u001b[0m\u001b[0msource\u001b[0m\u001b[0;34m)\u001b[0m\u001b[0;34m\u001b[0m\u001b[0m\n\u001b[1;32m   1279\u001b[0m \u001b[0;34m\u001b[0m\u001b[0m\n",
      "\u001b[0;32m/home/usu1/anaconda3/lib/python3.5/site-packages/py2neo/database/__init__.py\u001b[0m in \u001b[0;36mfinish\u001b[0;34m(self)\u001b[0m\n\u001b[1;32m   1294\u001b[0m \u001b[0;34m\u001b[0m\u001b[0m\n\u001b[1;32m   1295\u001b[0m     \u001b[0;32mdef\u001b[0m \u001b[0mfinish\u001b[0m\u001b[0;34m(\u001b[0m\u001b[0mself\u001b[0m\u001b[0;34m)\u001b[0m\u001b[0;34m:\u001b[0m\u001b[0;34m\u001b[0m\u001b[0m\n\u001b[0;32m-> 1296\u001b[0;31m         \u001b[0mself\u001b[0m\u001b[0;34m.\u001b[0m\u001b[0m_sync\u001b[0m\u001b[0;34m(\u001b[0m\u001b[0;34m)\u001b[0m\u001b[0;34m\u001b[0m\u001b[0m\n\u001b[0m\u001b[1;32m   1297\u001b[0m         \u001b[0mTransaction\u001b[0m\u001b[0;34m.\u001b[0m\u001b[0mfinish\u001b[0m\u001b[0;34m(\u001b[0m\u001b[0mself\u001b[0m\u001b[0;34m)\u001b[0m\u001b[0;34m\u001b[0m\u001b[0m\n\u001b[1;32m   1298\u001b[0m         \u001b[0mself\u001b[0m\u001b[0;34m.\u001b[0m\u001b[0msession\u001b[0m\u001b[0;34m.\u001b[0m\u001b[0mclose\u001b[0m\u001b[0;34m(\u001b[0m\u001b[0;34m)\u001b[0m\u001b[0;34m\u001b[0m\u001b[0m\n",
      "\u001b[0;32m/home/usu1/anaconda3/lib/python3.5/site-packages/py2neo/database/__init__.py\u001b[0m in \u001b[0;36m_sync\u001b[0;34m(self)\u001b[0m\n\u001b[1;32m   1284\u001b[0m             \u001b[0msource\u001b[0m \u001b[0;34m=\u001b[0m \u001b[0mself\u001b[0m\u001b[0;34m.\u001b[0m\u001b[0msources\u001b[0m\u001b[0;34m.\u001b[0m\u001b[0mpop\u001b[0m\u001b[0;34m(\u001b[0m\u001b[0;36m0\u001b[0m\u001b[0;34m)\u001b[0m\u001b[0;34m\u001b[0m\u001b[0m\n\u001b[1;32m   1285\u001b[0m             \u001b[0;32mwhile\u001b[0m \u001b[0;32mnot\u001b[0m \u001b[0msource\u001b[0m\u001b[0;34m.\u001b[0m\u001b[0mloaded\u001b[0m\u001b[0;34m:\u001b[0m\u001b[0;34m\u001b[0m\u001b[0m\n\u001b[0;32m-> 1286\u001b[0;31m                 \u001b[0mconnection\u001b[0m\u001b[0;34m.\u001b[0m\u001b[0mfetch\u001b[0m\u001b[0;34m(\u001b[0m\u001b[0;34m)\u001b[0m\u001b[0;34m\u001b[0m\u001b[0m\n\u001b[0m\u001b[1;32m   1287\u001b[0m \u001b[0;34m\u001b[0m\u001b[0m\n\u001b[1;32m   1288\u001b[0m     \u001b[0;32mdef\u001b[0m \u001b[0m_post\u001b[0m\u001b[0;34m(\u001b[0m\u001b[0mself\u001b[0m\u001b[0;34m,\u001b[0m \u001b[0mcommit\u001b[0m\u001b[0;34m=\u001b[0m\u001b[0;32mFalse\u001b[0m\u001b[0;34m)\u001b[0m\u001b[0;34m:\u001b[0m\u001b[0;34m\u001b[0m\u001b[0m\n",
      "\u001b[0;32m/home/usu1/anaconda3/lib/python3.5/site-packages/py2neo/packages/neo4j/v1/bolt.py\u001b[0m in \u001b[0;36mfetch\u001b[0;34m(self)\u001b[0m\n\u001b[1;32m    320\u001b[0m         \u001b[0munpack\u001b[0m \u001b[0;34m=\u001b[0m \u001b[0mUnpacker\u001b[0m\u001b[0;34m(\u001b[0m\u001b[0mraw\u001b[0m\u001b[0;34m)\u001b[0m\u001b[0;34m.\u001b[0m\u001b[0munpack\u001b[0m\u001b[0;34m\u001b[0m\u001b[0m\n\u001b[1;32m    321\u001b[0m         \u001b[0;32mtry\u001b[0m\u001b[0;34m:\u001b[0m\u001b[0;34m\u001b[0m\u001b[0m\n\u001b[0;32m--> 322\u001b[0;31m             \u001b[0mraw\u001b[0m\u001b[0;34m.\u001b[0m\u001b[0mwritelines\u001b[0m\u001b[0;34m(\u001b[0m\u001b[0mself\u001b[0m\u001b[0;34m.\u001b[0m\u001b[0mchannel\u001b[0m\u001b[0;34m.\u001b[0m\u001b[0mchunk_reader\u001b[0m\u001b[0;34m(\u001b[0m\u001b[0;34m)\u001b[0m\u001b[0;34m)\u001b[0m\u001b[0;34m\u001b[0m\u001b[0m\n\u001b[0m\u001b[1;32m    323\u001b[0m         \u001b[0;32mexcept\u001b[0m \u001b[0mProtocolError\u001b[0m\u001b[0;34m:\u001b[0m\u001b[0;34m\u001b[0m\u001b[0m\n\u001b[1;32m    324\u001b[0m             \u001b[0mself\u001b[0m\u001b[0;34m.\u001b[0m\u001b[0mdefunct\u001b[0m \u001b[0;34m=\u001b[0m \u001b[0;32mTrue\u001b[0m\u001b[0;34m\u001b[0m\u001b[0m\n",
      "\u001b[0;32m/home/usu1/anaconda3/lib/python3.5/site-packages/py2neo/packages/neo4j/v1/bolt.py\u001b[0m in \u001b[0;36mchunk_reader\u001b[0;34m(self)\u001b[0m\n\u001b[1;32m    171\u001b[0m         \u001b[0mchunk_size\u001b[0m \u001b[0;34m=\u001b[0m \u001b[0;34m-\u001b[0m\u001b[0;36m1\u001b[0m\u001b[0;34m\u001b[0m\u001b[0m\n\u001b[1;32m    172\u001b[0m         \u001b[0;32mwhile\u001b[0m \u001b[0mchunk_size\u001b[0m \u001b[0;34m!=\u001b[0m \u001b[0;36m0\u001b[0m\u001b[0;34m:\u001b[0m\u001b[0;34m\u001b[0m\u001b[0m\n\u001b[0;32m--> 173\u001b[0;31m             \u001b[0mchunk_header\u001b[0m \u001b[0;34m=\u001b[0m \u001b[0mself\u001b[0m\u001b[0;34m.\u001b[0m\u001b[0m_recv\u001b[0m\u001b[0;34m(\u001b[0m\u001b[0;36m2\u001b[0m\u001b[0;34m)\u001b[0m\u001b[0;34m\u001b[0m\u001b[0m\n\u001b[0m\u001b[1;32m    174\u001b[0m             \u001b[0mchunk_size\u001b[0m\u001b[0;34m,\u001b[0m \u001b[0;34m=\u001b[0m \u001b[0mstruct_unpack_from\u001b[0m\u001b[0;34m(\u001b[0m\u001b[0;34m\">H\"\u001b[0m\u001b[0;34m,\u001b[0m \u001b[0mchunk_header\u001b[0m\u001b[0;34m)\u001b[0m\u001b[0;34m\u001b[0m\u001b[0m\n\u001b[1;32m    175\u001b[0m             \u001b[0;32mif\u001b[0m \u001b[0mchunk_size\u001b[0m \u001b[0;34m>\u001b[0m \u001b[0;36m0\u001b[0m\u001b[0;34m:\u001b[0m\u001b[0;34m\u001b[0m\u001b[0m\n",
      "\u001b[0;32m/home/usu1/anaconda3/lib/python3.5/site-packages/py2neo/packages/neo4j/v1/bolt.py\u001b[0m in \u001b[0;36m_recv\u001b[0;34m(self, size)\u001b[0m\n\u001b[1;32m    154\u001b[0m             \u001b[0;32melse\u001b[0m\u001b[0;34m:\u001b[0m\u001b[0;34m\u001b[0m\u001b[0m\n\u001b[1;32m    155\u001b[0m                 \u001b[0;32mif\u001b[0m \u001b[0mready_to_read\u001b[0m \u001b[0;32mis\u001b[0m \u001b[0;32mnot\u001b[0m \u001b[0;32mNone\u001b[0m\u001b[0;34m:\u001b[0m\u001b[0;34m\u001b[0m\u001b[0m\n\u001b[0;32m--> 156\u001b[0;31m                     \u001b[0;32mraise\u001b[0m \u001b[0mProtocolError\u001b[0m\u001b[0;34m(\u001b[0m\u001b[0;34m\"Server closed connection\"\u001b[0m\u001b[0;34m)\u001b[0m\u001b[0;34m\u001b[0m\u001b[0m\n\u001b[0m\u001b[1;32m    157\u001b[0m             \u001b[0mremaining\u001b[0m \u001b[0;34m-=\u001b[0m \u001b[0mlen\u001b[0m\u001b[0;34m(\u001b[0m\u001b[0mb\u001b[0m\u001b[0;34m)\u001b[0m\u001b[0;34m\u001b[0m\u001b[0m\n\u001b[1;32m    158\u001b[0m             \u001b[0mself\u001b[0m\u001b[0;34m.\u001b[0m\u001b[0m_recv_buffer\u001b[0m \u001b[0;34m+=\u001b[0m \u001b[0mb\u001b[0m\u001b[0;34m\u001b[0m\u001b[0m\n",
      "\u001b[0;31mProtocolError\u001b[0m: Server closed connection"
     ]
    }
   ],
   "source": [
    "# Creating Luke Skywalker\n",
    "create_person(params)"
   ]
  },
  {
   "cell_type": "code",
   "execution_count": 57,
   "metadata": {
    "collapsed": false
   },
   "outputs": [
    {
     "data": {
      "text/plain": [
       "{'characters': ['http://swapi.co/api/people/1/',\n",
       "  'http://swapi.co/api/people/2/',\n",
       "  'http://swapi.co/api/people/3/',\n",
       "  'http://swapi.co/api/people/4/',\n",
       "  'http://swapi.co/api/people/5/',\n",
       "  'http://swapi.co/api/people/6/',\n",
       "  'http://swapi.co/api/people/7/',\n",
       "  'http://swapi.co/api/people/8/',\n",
       "  'http://swapi.co/api/people/9/',\n",
       "  'http://swapi.co/api/people/10/',\n",
       "  'http://swapi.co/api/people/12/',\n",
       "  'http://swapi.co/api/people/13/',\n",
       "  'http://swapi.co/api/people/14/',\n",
       "  'http://swapi.co/api/people/15/',\n",
       "  'http://swapi.co/api/people/16/',\n",
       "  'http://swapi.co/api/people/18/',\n",
       "  'http://swapi.co/api/people/19/',\n",
       "  'http://swapi.co/api/people/81/'],\n",
       " 'created': '2014-12-10T14:23:31.880000Z',\n",
       " 'director': 'George Lucas',\n",
       " 'edited': '2015-04-11T09:46:52.774897Z',\n",
       " 'episode_id': 4,\n",
       " 'opening_crawl': \"It is a period of civil war.\\r\\nRebel spaceships, striking\\r\\nfrom a hidden base, have won\\r\\ntheir first victory against\\r\\nthe evil Galactic Empire.\\r\\n\\r\\nDuring the battle, Rebel\\r\\nspies managed to steal secret\\r\\nplans to the Empire's\\r\\nultimate weapon, the DEATH\\r\\nSTAR, an armored space\\r\\nstation with enough power\\r\\nto destroy an entire planet.\\r\\n\\r\\nPursued by the Empire's\\r\\nsinister agents, Princess\\r\\nLeia races home aboard her\\r\\nstarship, custodian of the\\r\\nstolen plans that can save her\\r\\npeople and restore\\r\\nfreedom to the galaxy....\",\n",
       " 'planets': ['http://swapi.co/api/planets/2/',\n",
       "  'http://swapi.co/api/planets/3/',\n",
       "  'http://swapi.co/api/planets/1/'],\n",
       " 'producer': 'Gary Kurtz, Rick McCallum',\n",
       " 'release_date': '1977-05-25',\n",
       " 'species': ['http://swapi.co/api/species/5/',\n",
       "  'http://swapi.co/api/species/3/',\n",
       "  'http://swapi.co/api/species/2/',\n",
       "  'http://swapi.co/api/species/1/',\n",
       "  'http://swapi.co/api/species/4/'],\n",
       " 'starships': ['http://swapi.co/api/starships/2/',\n",
       "  'http://swapi.co/api/starships/3/',\n",
       "  'http://swapi.co/api/starships/5/',\n",
       "  'http://swapi.co/api/starships/9/',\n",
       "  'http://swapi.co/api/starships/10/',\n",
       "  'http://swapi.co/api/starships/11/',\n",
       "  'http://swapi.co/api/starships/12/',\n",
       "  'http://swapi.co/api/starships/13/'],\n",
       " 'title': 'A New Hope',\n",
       " 'url': 'http://swapi.co/api/films/1/',\n",
       " 'vehicles': ['http://swapi.co/api/vehicles/4/',\n",
       "  'http://swapi.co/api/vehicles/6/',\n",
       "  'http://swapi.co/api/vehicles/7/',\n",
       "  'http://swapi.co/api/vehicles/8/']}"
      ]
     },
     "execution_count": 57,
     "metadata": {},
     "output_type": "execute_result"
    }
   ],
   "source": [
    "# Fetch a single Film entity from the API\n",
    "r = requests.get(\"http://swapi.co/api/films/1/\")\n",
    "params = r.json()\n",
    "params"
   ]
  },
  {
   "cell_type": "code",
   "execution_count": 58,
   "metadata": {
    "collapsed": true
   },
   "outputs": [],
   "source": [
    "# Define a function for inserting a Film entity into the graph\n",
    "def create_film(params):\n",
    "    film = merge_one_node('Film', url=params['url'])\n",
    "    film['created'] = params['created']\n",
    "    film['edited'] = params['edited']\n",
    "    film['episode_id'] = int(params['episode_id'])\n",
    "    film['opening_crawl'] = params['opening_crawl']\n",
    "    film['release_date'] = params['release_date']\n",
    "    film['title'] = params['title']\n",
    "    film['name'] = params['title']  # Adding this only for the visualization\n",
    "    \n",
    "    if PLACEHOLDER in film.labels():\n",
    "        film.remove_label(PLACEHOLDER)\n",
    "    \n",
    "    graph.push(film)\n",
    "    \n",
    "    # Important: 'director' is a string with multiple values separated by commas\n",
    "    for director_params in params['director'].split(','):\n",
    "        director_params = director_params.strip()\n",
    "        director = merge_one_node('Director', name=director_params)\n",
    "        create_unique_relationship(film, 'DIRECTED_BY', director)\n",
    "        \n",
    "    # Important: 'producer' is a string with multiple values separated by commas\n",
    "    ########################################\n",
    "    # Here we need a block for the producers\n",
    "    ########################################\n",
    "    for producer_params in params['producer'].split(','):\n",
    "        producer_params = producer_params.strip()\n",
    "        producer = merge_one_node('Producer', name=producer_params)\n",
    "        create_unique_relationship(film, 'PRODUCED_BY', producer)\n",
    "        \n",
    "    for character_param in params['characters']:\n",
    "        character = selector.select('Person', url=character_param).first()\n",
    "        if not character:\n",
    "            character = Node('Person', url=character_param)\n",
    "            character.add_label(PLACEHOLDER)\n",
    "            graph.create(character)\n",
    "        create_unique_relationship(character, 'APPEARS_IN', film)\n",
    "    \n",
    "    ######################################\n",
    "    # Here we need a block for the planets\n",
    "    ######################################\n",
    "    for planet_param in params['planets']:\n",
    "        planet = selector.select('Planet', url=planet_param).first()\n",
    "        if not planet:\n",
    "            planet = Node('Planet', url=planet_param)\n",
    "            planet.add_label(PLACEHOLDER)\n",
    "            graph.create(planet)\n",
    "        create_unique_relationship(film, 'TAKES_PLACE_ON', planet)\n",
    " \n",
    "    ######################################\n",
    "    # Here we need a block for the species\n",
    "    ######################################\n",
    "    for species_param in params['species']:\n",
    "        species = selector.select('Species', url=species_param).first()\n",
    "        if not species:\n",
    "            species = Node('Species', url=species_param)\n",
    "            species.add_label(PLACEHOLDER)\n",
    "            graph.create(species)\n",
    "\n",
    "\n",
    "    ########################################\n",
    "    # Here we need a block for the starships\n",
    "    ########################################\n",
    "    for starship_param in params['starships']:\n",
    "        starship = selector.select('Starship', url=starship_param).first()\n",
    "        if not starship:\n",
    "            starship = Node('Starship', url=starship_param)\n",
    "            starship.add_label(PLACEHOLDER)\n",
    "            graph.create(starship)\n",
    "        create_unique_relationship(starship, 'APPEARS_IN', film)\n",
    "\n",
    "    #######################################\n",
    "    # Here we need a block for the vehicles\n",
    "    #######################################\n",
    "    for vehicle_param in params['vehicles']:\n",
    "        vehicle = selector.select('Vehicle', url=vehicle_param).first()\n",
    "        if not vehicle:\n",
    "            vehicle = Node('Vehicle', url=vehicle_param)\n",
    "            vehicle.add_label(PLACEHOLDER)\n",
    "            graph.create(vehicle)\n",
    "        create_unique_relationship(vehicle, 'APPEARS_IN', film)    "
   ]
  },
  {
   "cell_type": "code",
   "execution_count": 59,
   "metadata": {
    "collapsed": false
   },
   "outputs": [],
   "source": [
    "# Creating A New Hope\n",
    "create_film(params)"
   ]
  },
  {
   "cell_type": "code",
   "execution_count": 60,
   "metadata": {
    "collapsed": false
   },
   "outputs": [
    {
     "data": {
      "text/plain": [
       "{'climate': 'arid',\n",
       " 'created': '2014-12-09T13:50:49.641000Z',\n",
       " 'diameter': '10465',\n",
       " 'edited': '2014-12-21T20:48:04.175778Z',\n",
       " 'films': ['http://swapi.co/api/films/5/',\n",
       "  'http://swapi.co/api/films/4/',\n",
       "  'http://swapi.co/api/films/6/',\n",
       "  'http://swapi.co/api/films/3/',\n",
       "  'http://swapi.co/api/films/1/'],\n",
       " 'gravity': '1 standard',\n",
       " 'name': 'Tatooine',\n",
       " 'orbital_period': '304',\n",
       " 'population': '200000',\n",
       " 'residents': ['http://swapi.co/api/people/1/',\n",
       "  'http://swapi.co/api/people/2/',\n",
       "  'http://swapi.co/api/people/4/',\n",
       "  'http://swapi.co/api/people/6/',\n",
       "  'http://swapi.co/api/people/7/',\n",
       "  'http://swapi.co/api/people/8/',\n",
       "  'http://swapi.co/api/people/9/',\n",
       "  'http://swapi.co/api/people/11/',\n",
       "  'http://swapi.co/api/people/43/',\n",
       "  'http://swapi.co/api/people/62/'],\n",
       " 'rotation_period': '23',\n",
       " 'surface_water': '1',\n",
       " 'terrain': 'desert',\n",
       " 'url': 'http://swapi.co/api/planets/1/'}"
      ]
     },
     "execution_count": 60,
     "metadata": {},
     "output_type": "execute_result"
    }
   ],
   "source": [
    "# Fetch a single Film entity from the API\n",
    "r = requests.get(\"http://swapi.co/api/planets/1/\")\n",
    "params = r.json()\n",
    "params"
   ]
  },
  {
   "cell_type": "code",
   "execution_count": 61,
   "metadata": {
    "collapsed": true
   },
   "outputs": [],
   "source": [
    "# Define a function for inserting a Planet entity into the graph\n",
    "def create_planet(params):\n",
    "    planet = merge_one_node('Planet', url=params['url'])\n",
    "    planet['created'] = params['created']\n",
    "    planet['diameter'] = params['diameter']\n",
    "    planet['edited'] = params['edited']\n",
    "    planet['gravity'] = params['gravity']\n",
    "    planet['name'] = params['name']\n",
    "    planet['orbital_period'] = params['orbital_period']\n",
    "    planet['population'] = params['population']\n",
    "    planet['rotation_period'] = params['rotation_period']\n",
    "    planet['surface_water'] = params['surface_water']\n",
    "    \n",
    "    if PLACEHOLDER in planet.labels():\n",
    "        planet.remove_label(PLACEHOLDER)\n",
    "    \n",
    "    graph.push(planet)\n",
    "    \n",
    "    # Important: 'climate' is a string with multiple values separated by commas\n",
    "    for climate_params in params['climate'].split(','):\n",
    "        climate_params = climate_params.strip()\n",
    "        climate = merge_one_node('Climate', type=climate_params)\n",
    "        create_unique_relationship(planet, 'HAS_CLIMATE', climate)\n",
    "        \n",
    "    # Important: 'terrain' is a string with multiple values separated by commas\n",
    "    #######################################\n",
    "    # Here we need a block for the terrains\n",
    "    #######################################\n",
    "    for terrain_params in params['terrain'].split(','):\n",
    "        terrain_params = terrain_params.strip()\n",
    "        terrain = merge_one_node('Terrain', type=terrain_params)\n",
    "        create_unique_relationship(planet, 'HAS_TERRAIN', terrain)    "
   ]
  },
  {
   "cell_type": "code",
   "execution_count": 62,
   "metadata": {
    "collapsed": false
   },
   "outputs": [],
   "source": [
    "# Creating Tatooine\n",
    "create_planet(params)"
   ]
  },
  {
   "cell_type": "code",
   "execution_count": 63,
   "metadata": {
    "collapsed": false
   },
   "outputs": [
    {
     "data": {
      "text/plain": [
       "{'average_height': 'n/a',\n",
       " 'average_lifespan': 'indefinite',\n",
       " 'classification': 'artificial',\n",
       " 'created': '2014-12-10T15:16:16.259000Z',\n",
       " 'designation': 'sentient',\n",
       " 'edited': '2015-04-17T06:59:43.869528Z',\n",
       " 'eye_colors': 'n/a',\n",
       " 'films': ['http://swapi.co/api/films/7/',\n",
       "  'http://swapi.co/api/films/5/',\n",
       "  'http://swapi.co/api/films/4/',\n",
       "  'http://swapi.co/api/films/6/',\n",
       "  'http://swapi.co/api/films/3/',\n",
       "  'http://swapi.co/api/films/2/',\n",
       "  'http://swapi.co/api/films/1/'],\n",
       " 'hair_colors': 'n/a',\n",
       " 'homeworld': None,\n",
       " 'language': 'n/a',\n",
       " 'name': 'Droid',\n",
       " 'people': ['http://swapi.co/api/people/2/',\n",
       "  'http://swapi.co/api/people/3/',\n",
       "  'http://swapi.co/api/people/8/',\n",
       "  'http://swapi.co/api/people/23/',\n",
       "  'http://swapi.co/api/people/87/'],\n",
       " 'skin_colors': 'n/a',\n",
       " 'url': 'http://swapi.co/api/species/2/'}"
      ]
     },
     "execution_count": 63,
     "metadata": {},
     "output_type": "execute_result"
    }
   ],
   "source": [
    "# Fetch a single Film entity from the API\n",
    "r = requests.get(\"http://swapi.co/api/species/2/\")\n",
    "params = r.json()\n",
    "params"
   ]
  },
  {
   "cell_type": "code",
   "execution_count": 64,
   "metadata": {
    "collapsed": true
   },
   "outputs": [],
   "source": [
    "# Define a function for inserting a Species entity into the graph\n",
    "def create_species(params):\n",
    "    species = merge_one_node('Species', url=params['url'])\n",
    "    species['name'] = params['name']\n",
    "    species['language'] = params['language']\n",
    "    species['average_height'] = params['average_height']\n",
    "    species['average_lifespan'] = params['average_lifespan']\n",
    "    species['classification'] = params['classification']\n",
    "    species['created'] = params['created']\n",
    "    species['designation'] = params['designation']\n",
    "    species['eye_colors'] = params['eye_colors']\n",
    "    species['hair_colors'] = params['hair_colors']\n",
    "    species['skin_colors'] = params['skin_colors']\n",
    "    \n",
    "    if PLACEHOLDER in species.labels():\n",
    "        species.remove_label(PLACEHOLDER)\n",
    "        \n",
    "    graph.push(species)"
   ]
  },
  {
   "cell_type": "code",
   "execution_count": 65,
   "metadata": {
    "collapsed": false
   },
   "outputs": [],
   "source": [
    "# Creating Droid\n",
    "create_species(params)"
   ]
  },
  {
   "cell_type": "code",
   "execution_count": 66,
   "metadata": {
    "collapsed": false
   },
   "outputs": [
    {
     "data": {
      "text/plain": [
       "{'MGLT': '60',\n",
       " 'cargo_capacity': '3000000',\n",
       " 'consumables': '1 year',\n",
       " 'cost_in_credits': '3500000',\n",
       " 'created': '2014-12-10T14:20:33.369000Z',\n",
       " 'crew': '165',\n",
       " 'edited': '2014-12-22T17:35:45.408368Z',\n",
       " 'films': ['http://swapi.co/api/films/6/',\n",
       "  'http://swapi.co/api/films/3/',\n",
       "  'http://swapi.co/api/films/1/'],\n",
       " 'hyperdrive_rating': '2.0',\n",
       " 'length': '150',\n",
       " 'manufacturer': 'Corellian Engineering Corporation',\n",
       " 'max_atmosphering_speed': '950',\n",
       " 'model': 'CR90 corvette',\n",
       " 'name': 'CR90 corvette',\n",
       " 'passengers': '600',\n",
       " 'pilots': [],\n",
       " 'starship_class': 'corvette',\n",
       " 'url': 'http://swapi.co/api/starships/2/'}"
      ]
     },
     "execution_count": 66,
     "metadata": {},
     "output_type": "execute_result"
    }
   ],
   "source": [
    "# Fetch a single Film entity from the API\n",
    "r = requests.get(\"http://swapi.co/api/starships/2/\")\n",
    "params = r.json()\n",
    "params"
   ]
  },
  {
   "cell_type": "code",
   "execution_count": 67,
   "metadata": {
    "collapsed": false
   },
   "outputs": [],
   "source": [
    "# Define a function for inserting a Starship entity into the graph\n",
    "def create_starship(params):\n",
    "    starship = merge_one_node('Starship', url=params['url'])\n",
    "    starship['MGLT'] = params['MGLT']\n",
    "    starship['consumables'] = params['consumables']\n",
    "    starship['cost_in_credits'] = params['cost_in_credits']\n",
    "    starship['created'] = params['created']\n",
    "    starship['crew'] = params['crew']\n",
    "    starship['edited'] = params['edited']\n",
    "    starship['hyperdrive_rating'] = params['hyperdrive_rating']\n",
    "    starship['length'] = params['length']\n",
    "    starship['max_atmosphering_speed'] = params['max_atmosphering_speed']\n",
    "    starship['model'] = params['model']\n",
    "    starship['name'] = params['name']\n",
    "    starship['passengers'] = params['passengers']\n",
    "    \n",
    "    if PLACEHOLDER in starship.labels():\n",
    "        starship.remove_label(PLACEHOLDER)\n",
    "    \n",
    "    graph.push(starship)\n",
    "    \n",
    "    manufacturer = merge_one_node('Manufacturer', name=params['manufacturer'])\n",
    "    create_unique_relationship(starship, 'MANUFACTURED_BY', manufacturer)\n",
    "    \n",
    "    ###############################################\n",
    "    # Here we need a block for the starship_classes\n",
    "    ###############################################\n",
    "    starship_class = merge_one_node('StarshipClass', name=params['starship_class'])\n",
    "    create_unique_relationship(starship, 'IS_CLASS', starship_class)\n",
    "    "
   ]
  },
  {
   "cell_type": "code",
   "execution_count": 68,
   "metadata": {
    "collapsed": false
   },
   "outputs": [],
   "source": [
    "# Creating CR90 corvette\n",
    "create_starship(params)"
   ]
  },
  {
   "cell_type": "code",
   "execution_count": 69,
   "metadata": {
    "collapsed": false
   },
   "outputs": [
    {
     "data": {
      "text/plain": [
       "{'cargo_capacity': '50000',\n",
       " 'consumables': '2 months',\n",
       " 'cost_in_credits': '150000',\n",
       " 'created': '2014-12-10T15:36:25.724000Z',\n",
       " 'crew': '46',\n",
       " 'edited': '2014-12-22T18:21:15.523587Z',\n",
       " 'films': ['http://swapi.co/api/films/5/', 'http://swapi.co/api/films/1/'],\n",
       " 'length': '36.8',\n",
       " 'manufacturer': 'Corellia Mining Corporation',\n",
       " 'max_atmosphering_speed': '30',\n",
       " 'model': 'Digger Crawler',\n",
       " 'name': 'Sand Crawler',\n",
       " 'passengers': '30',\n",
       " 'pilots': [],\n",
       " 'url': 'http://swapi.co/api/vehicles/4/',\n",
       " 'vehicle_class': 'wheeled'}"
      ]
     },
     "execution_count": 69,
     "metadata": {},
     "output_type": "execute_result"
    }
   ],
   "source": [
    "# Fetch a single Film entity from the API\n",
    "r = requests.get(\"http://swapi.co/api/vehicles/4/\")\n",
    "params = r.json()\n",
    "params"
   ]
  },
  {
   "cell_type": "code",
   "execution_count": 70,
   "metadata": {
    "collapsed": true
   },
   "outputs": [],
   "source": [
    "# Define a function for inserting a Vehicle entity into the graph\n",
    "def create_vehicle(params):\n",
    "    vehicle = merge_one_node('Vehicle', url=params['url'])\n",
    "    vehicle['cargo_capacity'] = params['cargo_capacity']\n",
    "    vehicle['consumables'] = params['consumables']\n",
    "    vehicle['cost_in_credits'] = params['cost_in_credits']\n",
    "    vehicle['created'] = params['created']\n",
    "    vehicle['crew'] = params['crew']\n",
    "    vehicle['edited'] = params['edited']\n",
    "    vehicle['length'] = params['length']\n",
    "    vehicle['model'] = params['model']\n",
    "    vehicle['name'] = params['name']\n",
    "    vehicle['passengers'] = params['passengers']\n",
    "    \n",
    "    if PLACEHOLDER in vehicle.labels():\n",
    "        vehicle.remove_label(PLACEHOLDER)\n",
    "    \n",
    "    graph.push(vehicle)\n",
    "    \n",
    "    manufacturer = merge_one_node('Manufacturer', name=params['manufacturer'])\n",
    "    create_unique_relationship(vehicle, 'MANUFACTURED_BY', manufacturer)\n",
    "    \n",
    "    ##############################################\n",
    "    # Here we need a block for the vehicle_classes\n",
    "    ##############################################\n",
    "    vehicle_class = merge_one_node('VehicleClass', name=params['vehicle_class'])\n",
    "    create_unique_relationship(vehicle, 'IS_CLASS', vehicle_class)    "
   ]
  },
  {
   "cell_type": "code",
   "execution_count": 71,
   "metadata": {
    "collapsed": false
   },
   "outputs": [],
   "source": [
    "# Creating Sand crawler\n",
    "create_vehicle(params)"
   ]
  },
  {
   "cell_type": "markdown",
   "metadata": {},
   "source": [
    "Una vez creadas todas las funciones para crear los nodos y sus relaciones a través de entidades de la API, vamos a crear el grafo completo a través de las entidades `film`. Así no solo se crearán los nodos `film` si no que también el resto de nodos de las todas las entidades y su realciones, aunque serán provisionales."
   ]
  },
  {
   "cell_type": "code",
   "execution_count": 72,
   "metadata": {
    "collapsed": false
   },
   "outputs": [
    {
     "name": "stdout",
     "output_type": "stream",
     "text": [
      "Inserted film: http://swapi.co/api/films/1/\n",
      "Inserted film: http://swapi.co/api/films/2/\n",
      "Inserted film: http://swapi.co/api/films/3/\n",
      "Inserted film: http://swapi.co/api/films/4/\n",
      "Inserted film: http://swapi.co/api/films/5/\n",
      "Inserted film: http://swapi.co/api/films/6/\n",
      "Inserted film: http://swapi.co/api/films/7/\n"
     ]
    }
   ],
   "source": [
    "# Fetch Movie entities and insert into graph \n",
    "for i in range(1, 8):\n",
    "    url = 'http://swapi.co/api/films/' + str(i) + '/'\n",
    "    r = requests.get(url)\n",
    "    params = r.json()\n",
    "    create_film(params)\n",
    "    print('Inserted film: ' + str(url))"
   ]
  },
  {
   "cell_type": "code",
   "execution_count": 73,
   "metadata": {
    "collapsed": false
   },
   "outputs": [
    {
     "data": {
      "text/plain": [
       "[{'label': 'Person', 'num': 87},\n",
       " {'label': 'Vehicle', 'num': 38},\n",
       " {'label': 'Species', 'num': 36},\n",
       " {'label': 'Planet', 'num': 20},\n",
       " {'label': 'Starship', 'num': 36}]"
      ]
     },
     "execution_count": 73,
     "metadata": {},
     "output_type": "execute_result"
    }
   ],
   "source": [
    "# How many Placeholder nodes are in the graph now?\n",
    "placeholder_count_query = '''\n",
    "MATCH (p:Placeholder)\n",
    "WITH collect(DISTINCT labels(p)) AS label_list\n",
    "UNWIND label_list AS labels\n",
    "UNWIND labels AS label\n",
    "WITH collect(DISTINCT label) AS labels\n",
    "WITH FILTER(label IN labels WHERE label <> \"Placeholder\") AS labels\n",
    "UNWIND labels AS label\n",
    "MATCH (p:Placeholder) WHERE label IN labels(p)\n",
    "RETURN label, count(*) AS num\n",
    "'''\n",
    "\n",
    "graph.run(placeholder_count_query).data()"
   ]
  },
  {
   "cell_type": "markdown",
   "metadata": {},
   "source": [
    "Y ahora vamos a completar el grafo buscando uno a uno los nodos provisionales y rellenándolos."
   ]
  },
  {
   "cell_type": "code",
   "execution_count": 74,
   "metadata": {
    "collapsed": true
   },
   "outputs": [],
   "source": [
    "# Get the creation function for each label\n",
    "def get_function_for_label(label):\n",
    "    if (label == 'Person'):\n",
    "        return create_person\n",
    "    elif (label == 'Planet'):\n",
    "        return create_planet\n",
    "    elif (label == 'Species'):\n",
    "        return create_species\n",
    "    elif (label == 'Starship'):\n",
    "        return create_starship\n",
    "    elif (label == 'Vehicle'):\n",
    "        return create_vehicle\n",
    "    else:\n",
    "        raise ValueError('Unknown label for entity: ' + str(label))"
   ]
  },
  {
   "cell_type": "code",
   "execution_count": 75,
   "metadata": {
    "collapsed": false
   },
   "outputs": [],
   "source": [
    "# Fetch a single Placeholder entity from the graph\n",
    "# Get JSON for Placeholder entity from SWAPI\n",
    "# Update entity in graph (removing Placeholder label)\n",
    "# Loop until graph contains no more Placeholder nodes\n",
    "placeholder_node = selector.select(PLACEHOLDER).first()\n",
    "\n",
    "while placeholder_node:\n",
    "    labels = placeholder_node.labels()\n",
    "    labels = [label for label in labels]\n",
    "    labels.remove(PLACEHOLDER)\n",
    "    label = labels.pop()\n",
    "    \n",
    "    url = placeholder_node['url']\n",
    "    r = requests.get(url)\n",
    "    params = r.json()\n",
    "    create_function = get_function_for_label(label)\n",
    "    create_function(params)\n",
    "    placeholder_node = selector.select(PLACEHOLDER).first()"
   ]
  },
  {
   "cell_type": "markdown",
   "metadata": {},
   "source": [
    "Una vez completo nuestro grafo ¡vamos a averiguar cosas sobre él!"
   ]
  },
  {
   "cell_type": "code",
   "execution_count": 76,
   "metadata": {
    "collapsed": false
   },
   "outputs": [
    {
     "data": {
      "text/plain": [
       "[{'climates': ['temperate'],\n",
       "  'planet': 'Muunilinst',\n",
       "  'sim': 3,\n",
       "  'terrains': ['mountains', 'forests']},\n",
       " {'climates': ['temperate'],\n",
       "  'planet': 'Endor',\n",
       "  'sim': 3,\n",
       "  'terrains': ['mountains', 'forests']},\n",
       " {'climates': ['temperate'],\n",
       "  'planet': 'Malastare',\n",
       "  'sim': 3,\n",
       "  'terrains': ['mountains', 'swamps']},\n",
       " {'climates': ['temperate'],\n",
       "  'planet': 'Cato Neimoidia',\n",
       "  'sim': 3,\n",
       "  'terrains': ['mountains', 'forests']},\n",
       " {'climates': ['temperate'],\n",
       "  'planet': 'Coruscant',\n",
       "  'sim': 2,\n",
       "  'terrains': ['mountains']}]"
      ]
     },
     "execution_count": 76,
     "metadata": {},
     "output_type": "execute_result"
    }
   ],
   "source": [
    "# What planets are most similar to Naboo?\n",
    "planet_sim_query = '''\n",
    "MATCH (p:Planet {name: 'Naboo'})-[:HAS_CLIMATE]->(c:Climate)<-[:HAS_CLIMATE]-(o:Planet)\n",
    "MATCH (p)-[:HAS_TERRAIN]->(t:Terrain)<-[:HAS_TERRAIN]-(o)\n",
    "WITH DISTINCT o, collect(DISTINCT c.type) AS climates, collect(DISTINCT t.type) AS terrains\n",
    "RETURN o.name AS planet, climates, terrains, size(climates) + size(terrains) AS sim ORDER BY sim DESC LIMIT 5\n",
    "'''\n",
    "graph.run(planet_sim_query).data()"
   ]
  },
  {
   "cell_type": "code",
   "execution_count": 77,
   "metadata": {
    "collapsed": false
   },
   "outputs": [
    {
     "data": {
      "text/plain": [
       "[{'manufacturer': 'Sienar Fleet Systems',\n",
       "  'person': 'Han Solo',\n",
       "  'starship': 'Imperial shuttle',\n",
       "  'starship_class': 'Armed government transport'},\n",
       " {'manufacturer': 'Sienar Fleet Systems',\n",
       "  'person': 'Chewbacca',\n",
       "  'starship': 'Imperial shuttle',\n",
       "  'starship_class': 'Armed government transport'},\n",
       " {'manufacturer': 'Incom Corporation',\n",
       "  'person': 'Jek Tono Porkins',\n",
       "  'starship': 'X-wing',\n",
       "  'starship_class': 'Starfighter'},\n",
       " {'manufacturer': 'Incom Corporation',\n",
       "  'person': 'Wedge Antilles',\n",
       "  'starship': 'X-wing',\n",
       "  'starship_class': 'Starfighter'},\n",
       " {'manufacturer': 'Incom Corporation',\n",
       "  'person': 'Biggs Darklighter',\n",
       "  'starship': 'X-wing',\n",
       "  'starship_class': 'Starfighter'}]"
      ]
     },
     "execution_count": 77,
     "metadata": {},
     "output_type": "execute_result"
    }
   ],
   "source": [
    "# Who drove the same ships that Luke? Let's get also their manufacturers and classes.\n",
    "vehicle_luke_query = '''\n",
    "MATCH (p:Person {name: 'Luke Skywalker'})-[:PILOTS]->(v:Starship)<-[:PILOTS]-(o:Person)\n",
    "MATCH (v)-[:MANUFACTURED_BY]->(m:Manufacturer)\n",
    "MATCH (v)-[:IS_CLASS]->(c:StarshipClass)\n",
    "RETURN v.name as starship, o.name AS person, m.name as manufacturer, c.name as starship_class \n",
    "'''\n",
    "\n",
    "graph.run(vehicle_luke_query).data()"
   ]
  },
  {
   "cell_type": "code",
   "execution_count": null,
   "metadata": {
    "collapsed": true
   },
   "outputs": [],
   "source": []
  }
 ],
 "metadata": {
  "anaconda-cloud": {},
  "celltoolbar": "Raw Cell Format",
  "kernelspec": {
   "display_name": "Python [default]",
   "language": "python",
   "name": "python3"
  },
  "language_info": {
   "codemirror_mode": {
    "name": "ipython",
    "version": 3
   },
   "file_extension": ".py",
   "mimetype": "text/x-python",
   "name": "python",
   "nbconvert_exporter": "python",
   "pygments_lexer": "ipython3",
   "version": "3.5.2"
  }
 },
 "nbformat": 4,
 "nbformat_minor": 0
}
