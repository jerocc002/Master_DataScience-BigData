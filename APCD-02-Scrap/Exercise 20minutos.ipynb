{
 "cells": [
  {
   "cell_type": "markdown",
   "metadata": {},
   "source": [
    "# Ejercicio 1 - Web scraping\n",
    "Web scraping en la web de 20minutos. Recordad instalar las librerías necesarias.\n",
    "\n",
    "La plantilla se corresponde con los ejemplos vistos en clase esta semana y que están disponible en las transparencias. Además, los comentarios en el código os dan pistas sobre lo que se hace en cada momento.\n",
    "\n",
    "Este código no es universal. Podéis realizar cualquier mejora o cambio de código para obtener otro resultado. En ese caso debéis comentar cuál sería vuestro objetivo.\n",
    "\n",
    "Por favor, tened siempre en cuenta las condiciones legales de la página web que queráis usar.\n",
    "\n",
    "Podéis consultarme cualquier duda o enviarme vuestras soluciones a mi correo electrónico gmunoz4@us.es."
   ]
  },
  {
   "cell_type": "markdown",
   "metadata": {},
   "source": [
    "Rellenar los huecos para:\n",
    "\n",
    "1) Obtener la información deseada de la página\n",
    "\n",
    "2) Crear un archivo csv a partir de los datos obtenidos"
   ]
  },
  {
   "cell_type": "code",
   "execution_count": 6,
   "metadata": {
    "collapsed": true
   },
   "outputs": [],
   "source": [
    "# -*- coding: utf-8 -*-\n",
    "# Look at the terms and the robots.txt file\n",
    "# http://www.20minutos.es/robots.txt\n",
    "from bs4 import BeautifulSoup  # BeautifulSoup package\n",
    "import csv\n",
    "import unicodecsv  # unicodecsv package\n",
    "# If the package is not installed, install it using pip:\n",
    "# !pip install unicodecsv\n",
    "\n",
    "import datetime\n",
    "import requests  # requests package"
   ]
  },
  {
   "cell_type": "code",
   "execution_count": 7,
   "metadata": {
    "collapsed": false
   },
   "outputs": [],
   "source": [
    "url = \"http://www.20minutos.es\"\n",
    "# BeautifulSoup object\n",
    "soup = BeautifulSoup(requests.get(url).text,'lxml')"
   ]
  },
  {
   "cell_type": "code",
   "execution_count": 8,
   "metadata": {
    "collapsed": true
   },
   "outputs": [],
   "source": [
    "links = []\n",
    "# We look for the news.\n",
    "all_news_lines = soup(\"div\", \"sep-top\")\n",
    "for line in all_news_lines:\n",
    "    # For each line, we look for 'a' elements\n",
    "    link = line.find(\"a\")\n",
    "    # We store the link in the array\n",
    "    links.append(link)"
   ]
  },
  {
   "cell_type": "code",
   "execution_count": 9,
   "metadata": {
    "collapsed": true
   },
   "outputs": [],
   "source": [
    "csv_news = []\n",
    "# For our csv, we store three columns: the text, the length and the date\n",
    "csv_headers = [\"Text\", \"Date\", \"Length\"]\n",
    "csv_news.append(csv_headers)\n",
    "\n",
    "for link in links:\n",
    "    # This is one option to get the date\n",
    "    date_and_time = datetime.datetime.now()\n",
    "    date = date_and_time.strftime('%d/%m/%Y')\n",
    "    \n",
    "    # We get the 'title' from the link\n",
    "    new = link.get(\"title\")\n",
    "    new = new.encode('utf-8')  # We need to encode for special chars\n",
    "    \n",
    "    # We get the text length\n",
    "    number_of_letters = len(new)\n",
    "    csv_news.append([new, date, number_of_letters])"
   ]
  },
  {
   "cell_type": "code",
   "execution_count": 10,
   "metadata": {
    "collapsed": false
   },
   "outputs": [
    {
     "name": "stdout",
     "output_type": "stream",
     "text": [
      "News saved!!\n"
     ]
    }
   ],
   "source": [
    "# We write our csv\n",
    "# We open a file to allow the write operation\n",
    "ofile = open('20minutos_news.csv', 'w')\n",
    "# We define our writer to write the rows\n",
    "# writer = csv.______(ofile, delimiter=',')\n",
    "\n",
    "writer = csv.writer(ofile, delimiter='|')\n",
    "\n",
    "for row in csv_news:\n",
    "    # We use the try/catch to control the exceptions\n",
    "    try:\n",
    "        # We write the row in our csv file\n",
    "        writer.writerow(row)\n",
    "    except:\n",
    "        pass\n",
    "\n",
    "print(\"News saved!!\")\n",
    "ofile.close()\n",
    "\n",
    "# End"
   ]
  },
  {
   "cell_type": "code",
   "execution_count": null,
   "metadata": {
    "collapsed": true
   },
   "outputs": [],
   "source": []
  }
 ],
 "metadata": {
  "anaconda-cloud": {},
  "kernelspec": {
   "display_name": "Python [conda root]",
   "language": "python",
   "name": "conda-root-py"
  },
  "language_info": {
   "codemirror_mode": {
    "name": "ipython",
    "version": 3
   },
   "file_extension": ".py",
   "mimetype": "text/x-python",
   "name": "python",
   "nbconvert_exporter": "python",
   "pygments_lexer": "ipython3",
   "version": "3.5.2"
  }
 },
 "nbformat": 4,
 "nbformat_minor": 0
}
