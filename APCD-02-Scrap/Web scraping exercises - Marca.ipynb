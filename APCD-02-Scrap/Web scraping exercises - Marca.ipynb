{
 "cells": [
  {
   "cell_type": "markdown",
   "metadata": {},
   "source": [
    "# Ejercicio 2 - Web scraping\n",
    "Web scraping en la web de Marca. Recordad instalar las librerías necesarias.\n",
    "\n",
    "La plantilla se corresponde con los ejemplos vistos en clase esta semana y que están disponible en las transparencias. Además, los comentarios en el código os dan pistas sobre lo que se hace en cada momento.\n",
    "\n",
    "Este código no es universal. Podéis realizar cualquier mejora o cambio de código para obtener otro resultado. En ese caso debéis comentar cuál sería vuestro objetivo.\n",
    "\n",
    "Por favor, tened siempre en cuenta las condiciones legales de la página web que queráis usar.\n",
    "\n",
    "Podéis consultarme cualquier duda o enviarme vuestras soluciones a mi correo electrónico gmunoz4@us.es."
   ]
  },
  {
   "cell_type": "markdown",
   "metadata": {},
   "source": [
    "Rellenar los huecos para:\n",
    "\n",
    "1) Obtener la información deseada de la página\n",
    "\n",
    "2) Crear un archivo JSON a partir de los datos obtenidos"
   ]
  },
  {
   "cell_type": "code",
   "execution_count": 1,
   "metadata": {
    "collapsed": true
   },
   "outputs": [],
   "source": [
    "# -*- coding: utf-8 -*-\n",
    "# Look at the terms and the robots.txt file\n",
    "# http://estaticos.marca.com/robots.txt\n",
    "from bs4 import BeautifulSoup\n",
    "import requests\n",
    "import json"
   ]
  },
  {
   "cell_type": "code",
   "execution_count": 2,
   "metadata": {
    "collapsed": true
   },
   "outputs": [],
   "source": [
    "url = \"http://www.marca.com/futbol/primera/calendario.html\"\n",
    "# The first parameter is the 'text' from the url requested\n",
    "soup = BeautifulSoup(requests.get(url).text,\"lxml\")"
   ]
  },
  {
   "cell_type": "code",
   "execution_count": 3,
   "metadata": {
    "collapsed": true
   },
   "outputs": [],
   "source": [
    "resultados = []\n",
    "jornadas = soup(\"li\", \"jornada\")\n",
    "\n",
    "# Once we have the 'jornadas', we need to iterate over them\n",
    "for jornada in jornadas:\n",
    "    # We need to extract the name and the date. We need to look at the page\n",
    "    # HTML code to check the tag name\n",
    "    nombre_jornada = jornada.find(\"h2\").text\n",
    "    fecha_jornada = (jornada.find(\"span\").text).lstrip('\\nJornada 0123456789\\n')\n",
    "\n",
    "    # Matches data\n",
    "    # To set the parameters, we need to get the tag and the class associated\n",
    "    partidos_jornada = jornada.find(\"ul\", \"partidos-jornada\")\n",
    "\n",
    "    for partido_jornada in partidos_jornada:\n",
    "        local = \"\"\n",
    "        visitante = \"\"\n",
    "        try:\n",
    "            # Finally, let's use the class to find the desired data\n",
    "            local = partido_jornada.find(\"span\", \"local\").text\n",
    "            visitante = partido_jornada.find(\"span\", \"visitante\").text\n",
    "            resultado = partido_jornada.find(\"span\", \"resultado\").text\n",
    "        except:\n",
    "            pass\n",
    "\n",
    "        if 'Betis' in [local, visitante]:\n",
    "            # We want to store the information in a dictionary. The values\n",
    "            # will be 'local', 'visitante', 'resultado' and 'fecha_jornada'\n",
    "            # We use a dictionary to transform it to a JSON file\n",
    "            partido = {}\n",
    "            partido['local'] = local\n",
    "            partido['visitante'] = visitante\n",
    "            partido['resultado'] = resultado\n",
    "            partido['jornada'] = nombre_jornada\n",
    "            partido['fecha'] = fecha_jornada\n",
    "            resultados.append(partido)"
   ]
  },
  {
   "cell_type": "code",
   "execution_count": 5,
   "metadata": {
    "collapsed": true
   },
   "outputs": [],
   "source": [
    "# We open a file to write our dictionary in JSON format\n",
    "with open('json_matches.json', 'w') as outfile:\n",
    "    json.dump(resultados, outfile, ensure_ascii=False)\n",
    "\n",
    "# End"
   ]
  },
  {
   "cell_type": "code",
   "execution_count": null,
   "metadata": {
    "collapsed": true
   },
   "outputs": [],
   "source": []
  }
 ],
 "metadata": {
  "anaconda-cloud": {},
  "kernelspec": {
   "display_name": "Python [conda root]",
   "language": "python",
   "name": "conda-root-py"
  },
  "language_info": {
   "codemirror_mode": {
    "name": "ipython",
    "version": 3
   },
   "file_extension": ".py",
   "mimetype": "text/x-python",
   "name": "python",
   "nbconvert_exporter": "python",
   "pygments_lexer": "ipython3",
   "version": "3.5.2"
  }
 },
 "nbformat": 4,
 "nbformat_minor": 0
}
